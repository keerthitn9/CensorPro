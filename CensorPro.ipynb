{
 "cells": [
  {
   "cell_type": "code",
   "execution_count": 1,
   "metadata": {},
   "outputs": [
    {
     "name": "stderr",
     "output_type": "stream",
     "text": [
      "c:\\Users\\yasha\\AppData\\Local\\Programs\\Python\\Python312\\Lib\\site-packages\\whisper\\transcribe.py:126: UserWarning: FP16 is not supported on CPU; using FP32 instead\n",
      "  warnings.warn(\"FP16 is not supported on CPU; using FP32 instead\")\n"
     ]
    },
    {
     "name": "stdout",
     "output_type": "stream",
     "text": [
      "Transcription with word-level timestamps successful!\n",
      "Cuss words detected: [{'text': ' kill', 'start': 27.16, 'end': 27.6}, {'text': ' kill', 'start': 78.84, 'end': 79.48}, {'text': ' bastard', 'start': 84.42, 'end': 84.9}, {'text': ' murder,', 'start': 117.2, 'end': 117.56}]\n",
      "Bleeped audio saved to output_audio_censored2.wav\n"
     ]
    }
   ],
   "source": [
    "\n",
    "import os\n",
    "from pydub import AudioSegment\n",
    "from pydub.generators import Sine\n",
    "import whisper\n",
    "from better_profanity import profanity\n",
    "\n",
    "# Initialize the profanity filter\n",
    "profanity.load_censor_words()\n",
    "def transcribe_audio_with_word_timestamps(audio_path, model_type=\"base\"):\n",
    "    \"\"\"\n",
    "    Transcribe audio to text using Whisper and include word-level timestamps.\n",
    "    \"\"\"\n",
    "    try:\n",
    "        # Check if the file exists\n",
    "        if not os.path.exists(audio_path):\n",
    "            raise FileNotFoundError(f\"File not found: {audio_path}\")\n",
    "\n",
    "        # Load the Whisper model\n",
    "        model = whisper.load_model(model_type)\n",
    "        # Transcribe the audio with word-level timestamps\n",
    "        result = model.transcribe(audio_path, word_timestamps=True)\n",
    "        print(\"Transcription with word-level timestamps successful!\")\n",
    "\n",
    "        # Extract words with timestamps\n",
    "        words = []\n",
    "        for segment in result[\"segments\"]:\n",
    "            for word_info in segment[\"words\"]:\n",
    "                words.append({\n",
    "                    \"text\": word_info[\"word\"],\n",
    "                    \"start\": word_info[\"start\"],\n",
    "                    \"end\": word_info[\"end\"]\n",
    "                })\n",
    "\n",
    "        return words\n",
    "    except Exception as e:\n",
    "        print(f\"An error occurred during transcription: {e}\")\n",
    "        return []\n",
    "\n",
    "def bleep_audio_at_word_level(audio_path, words):\n",
    "    \"\"\"Creates a bleeped version of the audio at word level using timestamps.\"\"\"\n",
    "    audio = AudioSegment.from_file(audio_path)\n",
    "\n",
    "    # Overlay bleep for detected cuss words\n",
    "    for word in words:\n",
    "        if profanity.contains_profanity(word[\"text\"]):\n",
    "            start = word[\"start\"] * 1000  # Convert to milliseconds\n",
    "            end = word[\"end\"] * 1000  # Convert to milliseconds\n",
    "\n",
    "            # Generate a 1000 Hz sine wave tone for the bleep\n",
    "            bleep = Sine(1000).to_audio_segment(duration=(end - start))\n",
    "            audio = audio[:int(start)] + bleep + audio[int(end):]\n",
    "\n",
    "    return audio\n",
    "\n",
    "def process_audio_with_word_level_timestamps(input_audio_path, output_audio_path):\n",
    "    \"\"\"Processes the audio, bleeps out cuss words, and saves the output.\"\"\"\n",
    "    words = transcribe_audio_with_word_timestamps(input_audio_path)\n",
    "    if not words:\n",
    "        print(\"No transcription available. Exiting.\")\n",
    "        return\n",
    "\n",
    "    # Detect cuss words in the transcription\n",
    "    cuss_words = [word for word in words if profanity.contains_profanity(word[\"text\"])]\n",
    "    print(f\"Cuss words detected: {cuss_words}\")\n",
    "\n",
    "    if not cuss_words:\n",
    "        print(\"No cuss words detected. Saving the original audio.\")\n",
    "        os.rename(input_audio_path, output_audio_path)\n",
    "        return\n",
    "\n",
    "    bleeped_audio = bleep_audio_at_word_level(input_audio_path, cuss_words)\n",
    "    bleeped_audio.export(output_audio_path, format=\"wav\")\n",
    "    print(f\"Bleeped audio saved to {output_audio_path}\")\n",
    "\n",
    "# Example usage\n",
    "input_audio = \"output_audio_GOT.wav\"  # Replace with your audio filey\n",
    "\n",
    "output_audio = \"output_audio_censored2.wav\"\n",
    "process_audio_with_word_level_timestamps(input_audio, output_audio)\n"
   ]
  },
  {
   "cell_type": "code",
   "execution_count": null,
   "metadata": {},
   "outputs": [],
   "source": []
  }
 ],
 "metadata": {
  "kernelspec": {
   "display_name": "Python 3",
   "language": "python",
   "name": "python3"
  },
  "language_info": {
   "codemirror_mode": {
    "name": "ipython",
    "version": 3
   },
   "file_extension": ".py",
   "mimetype": "text/x-python",
   "name": "python",
   "nbconvert_exporter": "python",
   "pygments_lexer": "ipython3",
   "version": "3.12.5"
  }
 },
 "nbformat": 4,
 "nbformat_minor": 2
}
